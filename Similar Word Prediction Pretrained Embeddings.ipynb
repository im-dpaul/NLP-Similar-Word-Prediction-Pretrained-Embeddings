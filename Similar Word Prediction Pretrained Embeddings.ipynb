{
  "nbformat": 4,
  "nbformat_minor": 0,
  "metadata": {
    "colab": {
      "provenance": []
    },
    "kernelspec": {
      "name": "python3",
      "display_name": "Python 3"
    },
    "language_info": {
      "name": "python"
    }
  },
  "cells": [
    {
      "cell_type": "markdown",
      "source": [
        "# Similar Word Prediction - Pretrained Embeddings"
      ],
      "metadata": {
        "id": "oYhV1YeBSCUe"
      }
    },
    {
      "cell_type": "code",
      "execution_count": null,
      "metadata": {
        "id": "vNfJl_Z6iLaX"
      },
      "outputs": [],
      "source": [
        "%%capture\n",
        "!pip install nltk\n",
        "!pip install gensim"
      ]
    },
    {
      "cell_type": "code",
      "source": [
        "import gensim.downloader"
      ],
      "metadata": {
        "id": "U2-XTDLOWdk-"
      },
      "execution_count": null,
      "outputs": []
    },
    {
      "cell_type": "markdown",
      "source": [
        "## List of Pre-trained Embeddings of gensim library"
      ],
      "metadata": {
        "id": "CzFJ-pOqaNdf"
      }
    },
    {
      "cell_type": "code",
      "source": [
        "models = list(gensim.downloader.info()['models'].keys())\n",
        "\n",
        "print('Pre-trained embeddings:')\n",
        "print('-'*25)\n",
        "for model in models:\n",
        "  print(model)"
      ],
      "metadata": {
        "colab": {
          "base_uri": "https://localhost:8080/"
        },
        "id": "HrUJPQSTQCiM",
        "outputId": "3bed45a6-e943-468c-c7a8-e4846a4c3a65"
      },
      "execution_count": null,
      "outputs": [
        {
          "output_type": "stream",
          "name": "stdout",
          "text": [
            "Pre-trained embeddings:\n",
            "-------------------------\n",
            "fasttext-wiki-news-subwords-300\n",
            "conceptnet-numberbatch-17-06-300\n",
            "word2vec-ruscorpora-300\n",
            "word2vec-google-news-300\n",
            "glove-wiki-gigaword-50\n",
            "glove-wiki-gigaword-100\n",
            "glove-wiki-gigaword-200\n",
            "glove-wiki-gigaword-300\n",
            "glove-twitter-25\n",
            "glove-twitter-50\n",
            "glove-twitter-100\n",
            "glove-twitter-200\n",
            "__testing_word2vec-matrix-synopsis\n"
          ]
        }
      ]
    },
    {
      "cell_type": "markdown",
      "source": [
        "## Pre-trained Word2Vec Embedding"
      ],
      "metadata": {
        "id": "i4UgO9wmZnY0"
      }
    },
    {
      "cell_type": "code",
      "source": [
        "word2vec_embedding = gensim.downloader.load('word2vec-google-news-300')"
      ],
      "metadata": {
        "id": "cQ4oi9JkZm0a"
      },
      "execution_count": null,
      "outputs": []
    },
    {
      "cell_type": "code",
      "source": [
        "word2vec_embedding.most_similar('dog')"
      ],
      "metadata": {
        "colab": {
          "base_uri": "https://localhost:8080/"
        },
        "id": "jZhjCwPUaZi5",
        "outputId": "584d238a-425b-420a-8856-9640088f38df"
      },
      "execution_count": null,
      "outputs": [
        {
          "output_type": "execute_result",
          "data": {
            "text/plain": [
              "[('dogs', 0.8680489659309387),\n",
              " ('puppy', 0.8106428384780884),\n",
              " ('pit_bull', 0.780396044254303),\n",
              " ('pooch', 0.7627376914024353),\n",
              " ('cat', 0.7609457969665527),\n",
              " ('golden_retriever', 0.7500901818275452),\n",
              " ('German_shepherd', 0.7465174198150635),\n",
              " ('Rottweiler', 0.7437615394592285),\n",
              " ('beagle', 0.7418621778488159),\n",
              " ('pup', 0.740691065788269)]"
            ]
          },
          "metadata": {},
          "execution_count": 5
        }
      ]
    },
    {
      "cell_type": "code",
      "source": [
        "# Perform word analogy\n",
        "analogy_result = word2vec_embedding.most_similar(positive=[\"king\", \"woman\"], negative=[\"man\"], topn=1)\n",
        "print(\"\\nWord analogy 'king - man + woman':\")\n",
        "for word, score in analogy_result:\n",
        "    print(f\"{word}: {score:.4f}\")"
      ],
      "metadata": {
        "colab": {
          "base_uri": "https://localhost:8080/"
        },
        "id": "9oWK0R34VToq",
        "outputId": "a405c0fe-6411-4f64-da3a-e6a32198d75e"
      },
      "execution_count": null,
      "outputs": [
        {
          "output_type": "stream",
          "name": "stdout",
          "text": [
            "\n",
            "Word analogy 'king - man + woman':\n",
            "queen: 0.7118\n"
          ]
        }
      ]
    },
    {
      "cell_type": "markdown",
      "source": [
        "## Pre-trained GloVe Embedding"
      ],
      "metadata": {
        "id": "nyVmaC8KY67T"
      }
    },
    {
      "cell_type": "code",
      "source": [
        "glove_vectors = gensim.downloader.load('glove-twitter-25')"
      ],
      "metadata": {
        "colab": {
          "base_uri": "https://localhost:8080/"
        },
        "id": "BOSj1TL1XEVg",
        "outputId": "e7c70dff-fb21-4233-b004-e8becb054d0f"
      },
      "execution_count": null,
      "outputs": [
        {
          "output_type": "stream",
          "name": "stdout",
          "text": [
            "[==================================================] 100.0% 104.8/104.8MB downloaded\n"
          ]
        }
      ]
    },
    {
      "cell_type": "code",
      "source": [
        "glove_vectors.most_similar('hello')"
      ],
      "metadata": {
        "colab": {
          "base_uri": "https://localhost:8080/"
        },
        "id": "YSksaRPgZDEa",
        "outputId": "a220d7d1-8226-427d-f2e1-fa79113b9a58"
      },
      "execution_count": null,
      "outputs": [
        {
          "output_type": "execute_result",
          "data": {
            "text/plain": [
              "[('thanks', 0.9292947053909302),\n",
              " ('thank', 0.9241276383399963),\n",
              " ('birthday', 0.9218813180923462),\n",
              " ('welcome', 0.919857382774353),\n",
              " ('happy', 0.9158351421356201),\n",
              " ('hey', 0.9121533632278442),\n",
              " ('miss', 0.9077523946762085),\n",
              " ('love', 0.9076114296913147),\n",
              " ('dear', 0.8950147032737732),\n",
              " ('babe', 0.8825745582580566)]"
            ]
          },
          "metadata": {},
          "execution_count": 8
        }
      ]
    },
    {
      "cell_type": "code",
      "source": [],
      "metadata": {
        "id": "pgC269svSQi8"
      },
      "execution_count": null,
      "outputs": []
    }
  ]
}